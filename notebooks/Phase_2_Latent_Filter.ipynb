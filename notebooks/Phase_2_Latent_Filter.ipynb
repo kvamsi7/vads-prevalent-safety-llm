{
  "nbformat": 4,
  "nbformat_minor": 0,
  "metadata": {
    "colab": {
      "provenance": [],
      "include_colab_link": true
    },
    "kernelspec": {
      "name": "python3",
      "display_name": "Python 3"
    },
    "language_info": {
      "name": "python"
    }
  },
  "cells": [
    {
      "cell_type": "markdown",
      "metadata": {
        "id": "view-in-github",
        "colab_type": "text"
      },
      "source": [
        "<a href=\"https://colab.research.google.com/github/kvamsi7/vads-prevalent-safety-llm/blob/main/notebooks/Phase_2_Latent_Filter.ipynb\" target=\"_parent\"><img src=\"https://colab.research.google.com/assets/colab-badge.svg\" alt=\"Open In Colab\"/></a>"
      ]
    },
    {
      "cell_type": "code",
      "source": [
        "import json\n",
        "from collections import Counter\n",
        "import pandas as pd"
      ],
      "metadata": {
        "id": "0Ad6AviLh2CS"
      },
      "execution_count": 7,
      "outputs": []
    },
    {
      "cell_type": "code",
      "source": [
        "def load_dataset(file_path):\n",
        "    with open(file_path, \"r\") as file:\n",
        "        data = json.load(file)\n",
        "    return data"
      ],
      "metadata": {
        "id": "TkzRfjudhxQ2"
      },
      "execution_count": 8,
      "outputs": []
    },
    {
      "cell_type": "code",
      "source": [
        "def extract_latent_features(data):\n",
        "  prompts_data = {}\n",
        "  for prompt_id, prompt_data in data.items():\n",
        "    features_list_unsafe = {}\n",
        "    features_list_safe = {}\n",
        "    features_list = []\n",
        "    if \"unsafe_latent_info\" in prompt_data and \"latents\" in prompt_data[\"unsafe_latent_info\"]:\n",
        "      for feature,value in prompt_data[\"unsafe_latent_info\"][\"latents\"].items():\n",
        "        features_list_unsafe[feature] = value.get('act_score',0)\n",
        "      features_list.append(features_list_unsafe)\n",
        "    if \"safe_latent_data\" in prompt_data and \"latents\" in prompt_data[\"safe_latent_data\"]:\n",
        "      for feature, value in prompt_data[\"safe_latent_data\"][\"latents\"].items():\n",
        "        features_list_safe[feature] = value.get('act_score',0)\n",
        "      features_list.append(features_list_safe)\n",
        "    prompts_data[prompt_id] = features_list\n",
        "  return prompts_data\n"
      ],
      "metadata": {
        "id": "IaVnClboMUW4"
      },
      "execution_count": 104,
      "outputs": []
    },
    {
      "cell_type": "code",
      "source": [
        "file_path = \"/content/dataset_latent_autointep_dataset_v2_info.json\"\n",
        "data = load_dataset(file_path)"
      ],
      "metadata": {
        "id": "A3PLhVzeBhwq"
      },
      "execution_count": 105,
      "outputs": []
    },
    {
      "cell_type": "code",
      "source": [
        "prompt_features = extract_latent_features(data)"
      ],
      "metadata": {
        "id": "93Lf3ldODNLj"
      },
      "execution_count": 120,
      "outputs": []
    },
    {
      "cell_type": "code",
      "source": [
        "unsafe_prompts_features = [{'ID':prompt_id,'Features':features_list[0]}  for prompt_id, features_list in prompt_features.items() if len(features_list) > 0]\n",
        "safe_prompts_features = [{'ID':prompt_id,'Features':features_list[1]} for prompt_id, features_list in prompt_features.items() if len(features_list) > 0]\n",
        "\n",
        "df_harmful_features = pd.DataFrame(unsafe_prompts_features, columns=[\"ID\", \"Features\"])\n",
        "df_harmless_features = pd.DataFrame(safe_prompts_features, columns=[\"ID\", \"Features\"])"
      ],
      "metadata": {
        "colab": {
          "base_uri": "https://localhost:8080/"
        },
        "id": "Vrt0cuVS9uym",
        "outputId": "f2aa4f27-e6bd-4a80-bce6-363a5f368a84"
      },
      "execution_count": 127,
      "outputs": [
        {
          "output_type": "stream",
          "name": "stdout",
          "text": [
            "         ID                                           Features\n",
            "0  prompt_1  {'6631': 2528.1, '11527': 189.59, '994': 65.3,...\n",
            "1  prompt_2  {'6631': 2565.0, '11527': 225.16, '8684': 260....\n",
            "2  prompt_3  {'6631': 2486.13, '7933': 102.38, '4817': 188....\n",
            "3  prompt_4  {'6631': 2545.57, '7576': 103.2, '11092': 79.3...\n",
            "4  prompt_5  {'6631': 2690.91, '11795': 178.62, '1392': 107...\n"
          ]
        }
      ]
    },
    {
      "cell_type": "code",
      "source": [
        "def get_common_features(df1, df2):\n",
        "\n",
        "  # Merge DataFrames\n",
        "  merged_df = df1.merge(df2, on='ID', suffixes=('_df1', '_df2'))\n",
        "\n",
        "  # Function to get common keys for each prompt\n",
        "  def get_common_keys(row):\n",
        "      keys_df1 = set(row['Features_df1'].keys()) if isinstance(row['Features_df1'], dict) else set()\n",
        "      keys_df2 = set(row['Features_df2'].keys()) if isinstance(row['Features_df2'], dict) else set()\n",
        "      return list(keys_df1 & keys_df2)  # Intersection of keys\n",
        "\n",
        "\n",
        "  # print(merged_df)\n",
        "  merged_df['common_keys'] = merged_df.apply(get_common_keys, axis=1)\n",
        "  # Display result\n",
        "  result = merged_df[['ID', 'common_keys']]\n",
        "  return result\n"
      ],
      "metadata": {
        "id": "0OXISrO-KmS-"
      },
      "execution_count": 146,
      "outputs": []
    },
    {
      "cell_type": "code",
      "source": [
        "common_features_df = get_common_features(df_harmful_features,df_harmless_features)"
      ],
      "metadata": {
        "id": "EPum4yz2Pv66"
      },
      "execution_count": 148,
      "outputs": []
    },
    {
      "cell_type": "code",
      "source": [
        "common_features_df.to_csv('common_features.csv', index=False)"
      ],
      "metadata": {
        "id": "VP6SvrdfP0cE"
      },
      "execution_count": 151,
      "outputs": []
    },
    {
      "cell_type": "code",
      "source": [
        "len(common_features_df)"
      ],
      "metadata": {
        "colab": {
          "base_uri": "https://localhost:8080/"
        },
        "id": "r26KSlQRTqRQ",
        "outputId": "8181dd75-db19-41ab-9cc1-95bc88e4d9f2"
      },
      "execution_count": 150,
      "outputs": [
        {
          "output_type": "execute_result",
          "data": {
            "text/plain": [
              "85"
            ]
          },
          "metadata": {},
          "execution_count": 150
        }
      ]
    },
    {
      "cell_type": "code",
      "source": [],
      "metadata": {
        "id": "mTDMivjJT2Qw"
      },
      "execution_count": null,
      "outputs": []
    }
  ]
}